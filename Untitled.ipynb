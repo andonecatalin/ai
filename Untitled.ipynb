{
 "cells": [
  {
   "cell_type": "code",
   "execution_count": 1,
   "id": "1222180b-72b3-4827-b19f-fdf445272942",
   "metadata": {},
   "outputs": [],
   "source": [
    "\n",
    "from torch.utils.data import DataLoader,TensorDataset\n",
    "import torch.nn as nn\n",
    "#import data_download\n",
    "import functions\n",
    "#import numpy as np\n",
    "import matplotlib.pyplot as plt\n",
    "import torch.nn.functional as F\n",
    "from torch.utils.data import DataLoader,TensorDataset\n",
    "from sklearn.model_selection import train_test_split\n",
    "import torch\n",
    "import polars as pl\n",
    "from torch.nn import functional as F\n",
    "\n",
    "device = torch.device(\"cuda:0\")"
   ]
  },
  {
   "cell_type": "code",
   "execution_count": 2,
   "id": "36f324b4-300d-49d8-b565-31881fa1fde1",
   "metadata": {},
   "outputs": [],
   "source": [
    "dbname='ai_dataset'\n",
    "dbuser='postgres'\n",
    "dbpassword='parola'\n",
    "dbport=5432\n",
    "dbhost='127.0.0.1'\n",
    "table_name='tabela'"
   ]
  },
  {
   "cell_type": "code",
   "execution_count": 3,
   "id": "8e14af5f-d2d6-423a-8275-eb86fef0aa1b",
   "metadata": {},
   "outputs": [],
   "source": [
    "#conn.close()\n"
   ]
  },
  {
   "cell_type": "code",
   "execution_count": 4,
   "id": "0d8458d4-a55f-40a4-be21-8daabd48b6c8",
   "metadata": {},
   "outputs": [],
   "source": [
    "tickers=[\"AAPL\",\"MSFT\",'SPY','XAUUSD.OANDA','BCO.ICMTRADER']\n",
    "for i in range(len(tickers)):\n",
    "    tickers[i]=tickers[i].replace('.','_')\n",
    "net_functions=functions.Protected_execution"
   ]
  },
  {
   "cell_type": "code",
   "execution_count": 5,
   "id": "cd60fdd1-851c-48c2-a241-287c9e60a018",
   "metadata": {},
   "outputs": [
    {
     "data": {
      "text/html": [
       "<div><style>\n",
       ".dataframe > thead > tr,\n",
       ".dataframe > tbody > tr {\n",
       "  text-align: right;\n",
       "  white-space: pre-wrap;\n",
       "}\n",
       "</style>\n",
       "<small>shape: (4_529, 7)</small><table border=\"1\" class=\"dataframe\"><thead><tr><th>aapl_open</th><th>aapl_high</th><th>aapl_low</th><th>aapl_close</th><th>aapl_adj_close</th><th>aapl_volume</th><th>labels</th></tr><tr><td>f64</td><td>f64</td><td>f64</td><td>f64</td><td>f64</td><td>f64</td><td>f64</td></tr></thead><tbody><tr><td>-0.830234</td><td>-0.829973</td><td>-0.82998</td><td>-0.805067</td><td>-0.805067</td><td>0.60523</td><td>0.087006</td></tr><tr><td>-0.830432</td><td>-0.830679</td><td>-0.830481</td><td>-0.805398</td><td>-0.805398</td><td>0.1657</td><td>-0.448443</td></tr><tr><td>-0.830155</td><td>-0.829503</td><td>-0.829947</td><td>-0.804325</td><td>-0.804325</td><td>0.824383</td><td>1.216513</td></tr><tr><td>-0.829176</td><td>-0.829178</td><td>-0.829152</td><td>-0.804463</td><td>-0.804463</td><td>0.748408</td><td>-0.218175</td></tr><tr><td>-0.829495</td><td>-0.826114</td><td>-0.829092</td><td>-0.801774</td><td>-0.801774</td><td>4.893222</td><td>3.063192</td></tr><tr><td>&hellip;</td><td>&hellip;</td><td>&hellip;</td><td>&hellip;</td><td>&hellip;</td><td>&hellip;</td><td>&hellip;</td></tr><tr><td>2.730181</td><td>2.694878</td><td>2.726402</td><td>2.712595</td><td>2.712595</td><td>-0.899152</td><td>-0.332392</td></tr><tr><td>2.701143</td><td>2.667074</td><td>2.723786</td><td>2.702483</td><td>2.702483</td><td>-0.92034</td><td>-0.198784</td></tr><tr><td>2.680427</td><td>2.65994</td><td>2.69127</td><td>2.704322</td><td>2.704322</td><td>-0.870833</td><td>-0.032979</td></tr><tr><td>2.710946</td><td>2.681159</td><td>2.73014</td><td>2.712228</td><td>2.712228</td><td>-0.907089</td><td>0.051345</td></tr><tr><td>2.706507</td><td>2.676403</td><td>2.70323</td><td>2.692922</td><td>2.692922</td><td>-0.884932</td><td>-0.326298</td></tr></tbody></table></div>"
      ],
      "text/plain": [
       "shape: (4_529, 7)\n",
       "┌───────────┬───────────┬───────────┬────────────┬────────────────┬─────────────┬───────────┐\n",
       "│ aapl_open ┆ aapl_high ┆ aapl_low  ┆ aapl_close ┆ aapl_adj_close ┆ aapl_volume ┆ labels    │\n",
       "│ ---       ┆ ---       ┆ ---       ┆ ---        ┆ ---            ┆ ---         ┆ ---       │\n",
       "│ f64       ┆ f64       ┆ f64       ┆ f64        ┆ f64            ┆ f64         ┆ f64       │\n",
       "╞═══════════╪═══════════╪═══════════╪════════════╪════════════════╪═════════════╪═══════════╡\n",
       "│ -0.830234 ┆ -0.829973 ┆ -0.82998  ┆ -0.805067  ┆ -0.805067      ┆ 0.60523     ┆ 0.087006  │\n",
       "│ -0.830432 ┆ -0.830679 ┆ -0.830481 ┆ -0.805398  ┆ -0.805398      ┆ 0.1657      ┆ -0.448443 │\n",
       "│ -0.830155 ┆ -0.829503 ┆ -0.829947 ┆ -0.804325  ┆ -0.804325      ┆ 0.824383    ┆ 1.216513  │\n",
       "│ -0.829176 ┆ -0.829178 ┆ -0.829152 ┆ -0.804463  ┆ -0.804463      ┆ 0.748408    ┆ -0.218175 │\n",
       "│ -0.829495 ┆ -0.826114 ┆ -0.829092 ┆ -0.801774  ┆ -0.801774      ┆ 4.893222    ┆ 3.063192  │\n",
       "│ …         ┆ …         ┆ …         ┆ …          ┆ …              ┆ …           ┆ …         │\n",
       "│ 2.730181  ┆ 2.694878  ┆ 2.726402  ┆ 2.712595   ┆ 2.712595       ┆ -0.899152   ┆ -0.332392 │\n",
       "│ 2.701143  ┆ 2.667074  ┆ 2.723786  ┆ 2.702483   ┆ 2.702483       ┆ -0.92034    ┆ -0.198784 │\n",
       "│ 2.680427  ┆ 2.65994   ┆ 2.69127   ┆ 2.704322   ┆ 2.704322       ┆ -0.870833   ┆ -0.032979 │\n",
       "│ 2.710946  ┆ 2.681159  ┆ 2.73014   ┆ 2.712228   ┆ 2.712228       ┆ -0.907089   ┆ 0.051345  │\n",
       "│ 2.706507  ┆ 2.676403  ┆ 2.70323   ┆ 2.692922   ┆ 2.692922       ┆ -0.884932   ┆ -0.326298 │\n",
       "└───────────┴───────────┴───────────┴────────────┴────────────────┴─────────────┴───────────┘"
      ]
     },
     "execution_count": 5,
     "metadata": {},
     "output_type": "execute_result"
    }
   ],
   "source": [
    "#get data from database to polars\n",
    "query=net_functions.create_query(tickers[0],table_name)\n",
    "cursor,conn=net_functions.create_cursor(dbname,dbuser,dbpassword,dbport,dbhost)\n",
    "data=pl.read_database(query=query,connection=conn)\n",
    "data=data.with_columns(pl.col('aapl_adj_close').pct_change().alias('labels'))\n",
    "data= data.select((pl.all()-pl.all().mean()) / pl.all().std())\n",
    "\n",
    "data=data.drop_nulls()\n",
    "labels=data['labels']\n",
    "\n",
    "data\n"
   ]
  },
  {
   "cell_type": "code",
   "execution_count": 6,
   "id": "f78bd0af-38a8-415e-a566-72dcf82fe5a2",
   "metadata": {},
   "outputs": [],
   "source": [
    "#get data from polars\n",
    "#labels=data['labels']\n",
    "train_data=data['aapl_high']\n",
    "#make polars data into torch tensors\n",
    "labels=torch.tensor(labels).float()\n",
    "\n",
    "train_data=torch.tensor(train_data).float()\n",
    "train_data=train_data.to(device)\n",
    "#fits labels to -5,5 and gives it 2 decimal places\n",
    "#labels=net_functions.fit_to_range_tensor(labels)\n",
    "labels=torch.round(labels)\n",
    "labels=labels.type(torch.LongTensor)\n",
    "labels=labels.to(device)"
   ]
  },
  {
   "cell_type": "code",
   "execution_count": 7,
   "id": "4e3b7cbc-5661-4f00-8a92-f86190acf2aa",
   "metadata": {},
   "outputs": [],
   "source": [
    "#split data with sklearn\n",
    "train_data,test_data,train_labels,test_labels=train_test_split(train_data,labels,test_size=.1)\n",
    "\n",
    "#create pythorch datasets\n",
    "train_data=torch.utils.data.TensorDataset(train_data,train_labels)\n",
    "test_data=torch.utils.data.TensorDataset(test_data,test_labels)\n",
    "batchsize=32\n",
    "train_loader=DataLoader(train_data,batch_size=batchsize,shuffle=True,drop_last=True)\n",
    "test_loader=DataLoader(test_data,batch_size=test_data.tensors[0].shape[0])"
   ]
  },
  {
   "cell_type": "code",
   "execution_count": null,
   "id": "329e5b19-4074-4359-befe-b114ed7e805e",
   "metadata": {},
   "outputs": [],
   "source": []
  }
 ],
 "metadata": {
  "kernelspec": {
   "display_name": "Python 3 (ipykernel)",
   "language": "python",
   "name": "python3"
  },
  "language_info": {
   "codemirror_mode": {
    "name": "ipython",
    "version": 3
   },
   "file_extension": ".py",
   "mimetype": "text/x-python",
   "name": "python",
   "nbconvert_exporter": "python",
   "pygments_lexer": "ipython3",
   "version": "3.10.12"
  }
 },
 "nbformat": 4,
 "nbformat_minor": 5
}
