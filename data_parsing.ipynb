{
 "cells": [
  {
   "cell_type": "code",
   "execution_count": 48,
   "metadata": {},
   "outputs": [],
   "source": [
    "import pandas as pd\n",
    "import sqlite3\n",
    "import yfinance as yf\n",
    "import requests\n",
    "import json"
   ]
  },
  {
   "cell_type": "code",
   "execution_count": 49,
   "metadata": {},
   "outputs": [],
   "source": [
    "start_date=\"2018-01-01\"\n",
    "end_date=\"2023-12-31\"\n",
    "tickers=[\"AAPL\",\"MSFT\",'SPY']\n",
    "data=pd.DataFrame()\n",
    "conection=sqlite3.connect('database.db')"
   ]
  },
  {
   "cell_type": "code",
   "execution_count": 50,
   "metadata": {},
   "outputs": [],
   "source": [
    "def download_rename(data, name):\n",
    "    try:\n",
    "        del data['t']\n",
    "    except:\n",
    "        pass\n",
    "    data.rename(columns={'o':f'{name}_Open'},inplace=True)\n",
    "    data.rename(columns={'h':f'{name}_High'},inplace=True)\n",
    "    data.rename(columns={'l':f'{name}_Low'},inplace=True)\n",
    "    data.rename(columns={'c':f'{name}_Close'},inplace=True)\n",
    "    data.rename(columns={'a':f'{name}_Adj Close'},inplace=True)\n",
    "    data.rename(columns={'v':f'{name}_Volume'},inplace=True)\n",
    "    return data"
   ]
  },
  {
   "cell_type": "code",
   "execution_count": 51,
   "metadata": {},
   "outputs": [],
   "source": [
    "api_key='dd75440b5984491b9f3593d8cc275ed4'\n",
    "headers = {\"Authorization\": f\"Bearer {api_key}\"}\n",
    "for i in range(len(tickers)):\n",
    "    #hystorical_daily_request=f'https://api.darqube.com/data-api/market-data/historical/daily/TSLA?token={api_key}&start_date={start_date}&end_date={end_date}'\n",
    "    try:\n",
    "        response=requests.get(f'https://api.darqube.com/data-api/market-data/historical/daily/{tickers[i]}?token={api_key}&start_date={start_date}&end_date={end_date}')\n",
    "        response.raise_for_status()\n",
    "        data_json=response.json()\n",
    "        if data.empty:\n",
    "            data=download_rename(pd.DataFrame(data_json),tickers[i])\n",
    "        else:\n",
    "            data=pd.merge(data,download_rename(pd.DataFrame(data_json),tickers[i]),left_index=True,right_index=True)\n",
    "    except requests.exceptions.RequestException as e:\n",
    "        print(f\"API Error: {e}\")\n",
    "\n"
   ]
  },
  {
   "cell_type": "code",
   "execution_count": 53,
   "metadata": {},
   "outputs": [
    {
     "data": {
      "text/plain": [
       "1510"
      ]
     },
     "execution_count": 53,
     "metadata": {},
     "output_type": "execute_result"
    }
   ],
   "source": [
    "data.to_sql('stocks',conection,index=False,if_exists='replace')"
   ]
  },
  {
   "cell_type": "code",
   "execution_count": null,
   "metadata": {},
   "outputs": [],
   "source": []
  }
 ],
 "metadata": {
  "kernelspec": {
   "display_name": "Python 3",
   "language": "python",
   "name": "python3"
  },
  "language_info": {
   "codemirror_mode": {
    "name": "ipython",
    "version": 3
   },
   "file_extension": ".py",
   "mimetype": "text/x-python",
   "name": "python",
   "nbconvert_exporter": "python",
   "pygments_lexer": "ipython3",
   "version": "3.10.12"
  }
 },
 "nbformat": 4,
 "nbformat_minor": 2
}
