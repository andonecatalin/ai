{
 "cells": [
  {
   "cell_type": "markdown",
   "metadata": {
    "slideshow": {
     "slide_type": "notes"
    }
   },
   "source": [
    "Execute once cell"
   ]
  },
  {
   "cell_type": "code",
   "execution_count": 1,
   "metadata": {},
   "outputs": [
    {
     "name": "stdout",
     "output_type": "stream",
     "text": [
      "cuda\n"
     ]
    }
   ],
   "source": [
    "\n",
    "from torch.utils.data import DataLoader,TensorDataset\n",
    "import torch.nn as nn\n",
    "#import data_download\n",
    "import functions\n",
    "import numpy as np\n",
    "import matplotlib.pyplot as plt\n",
    "import torch.nn.functional as F\n",
    "from torch.utils.data import DataLoader,TensorDataset\n",
    "from sklearn.model_selection import train_test_split\n",
    "import torch\n",
    "import polars as pl\n",
    "from torch.nn import functional as F\n",
    "import torch.optim as optim\n",
    "import warnings\n",
    "from torch.optim.lr_scheduler import _LRScheduler\n",
    "device = torch.device('cuda' if torch.cuda.is_available() else 'cpu')\n",
    "print(device)"
   ]
  },
  {
   "cell_type": "code",
   "execution_count": 2,
   "metadata": {},
   "outputs": [],
   "source": [
    "#warnings for device\n",
    "if not torch.cuda.is_available():\n",
    "    raise Exception('Torch.cuda is not available')\n",
    "elif device!=torch.device('cuda'):\n",
    "    warnings.warn('Cuda is not selected as device even if it is available')"
   ]
  },
  {
   "cell_type": "code",
   "execution_count": 3,
   "metadata": {
    "jupyter": {
     "source_hidden": true
    }
   },
   "outputs": [],
   "source": [
    "dbname='ai_dataset'\n",
    "dbuser='postgres'\n",
    "dbpassword='parola'\n",
    "dbport=5432\n",
    "dbhost='127.0.0.1'\n",
    "table_name='tabela'"
   ]
  },
  {
   "cell_type": "code",
   "execution_count": 4,
   "metadata": {},
   "outputs": [],
   "source": [
    "tickers=[\"AAPL\",\"MSFT\",'SPY','XAUUSD.OANDA','BCO.ICMTRADER']\n",
    "for i in range(len(tickers)):\n",
    "    tickers[i]=tickers[i].replace('.','_')\n",
    "net_functions=functions.Protected_execution\n"
   ]
  },
  {
   "cell_type": "code",
   "execution_count": 5,
   "metadata": {},
   "outputs": [
    {
     "data": {
      "text/html": [
       "<div><style>\n",
       ".dataframe > thead > tr,\n",
       ".dataframe > tbody > tr {\n",
       "  text-align: right;\n",
       "  white-space: pre-wrap;\n",
       "}\n",
       "</style>\n",
       "<small>shape: (4_530, 6)</small><table border=\"1\" class=\"dataframe\"><thead><tr><th>aapl_open</th><th>aapl_high</th><th>aapl_low</th><th>aapl_close</th><th>aapl_adj_close</th><th>aapl_volume</th></tr><tr><td>f64</td><td>f64</td><td>f64</td><td>f64</td><td>f64</td><td>f64</td></tr></thead><tbody><tr><td>2.585</td><td>2.6696</td><td>2.5804</td><td>2.2722</td><td>2.2722</td><td>8.0723443e8</td></tr><tr><td>2.6832</td><td>2.7136</td><td>2.6607</td><td>2.2789</td><td>2.2789</td><td>6.196036e8</td></tr><tr><td>2.6725</td><td>2.675</td><td>2.6339</td><td>2.2609</td><td>2.2609</td><td>4.494224e8</td></tr><tr><td>2.6875</td><td>2.7393</td><td>2.6625</td><td>2.3193</td><td>2.3193</td><td>7.044576e8</td></tr><tr><td>2.7404</td><td>2.7571</td><td>2.705</td><td>2.3118</td><td>2.3118</td><td>6.7504077e8</td></tr><tr><td>&hellip;</td><td>&hellip;</td><td>&hellip;</td><td>&hellip;</td><td>&hellip;</td><td>&hellip;</td></tr><tr><td>195.18</td><td>195.41</td><td>192.97</td><td>193.6</td><td>193.6</td><td>3.71228e7</td></tr><tr><td>193.61</td><td>193.89</td><td>192.83</td><td>193.05</td><td>193.05</td><td>2.89193e7</td></tr><tr><td>192.49</td><td>193.5</td><td>191.09</td><td>193.15</td><td>193.15</td><td>4.80877e7</td></tr><tr><td>194.14</td><td>194.66</td><td>193.17</td><td>193.58</td><td>193.58</td><td>3.40499e7</td></tr><tr><td>193.9</td><td>194.4</td><td>191.73</td><td>192.53</td><td>192.53</td><td>4.26288e7</td></tr></tbody></table></div>"
      ],
      "text/plain": [
       "shape: (4_530, 6)\n",
       "┌───────────┬───────────┬──────────┬────────────┬────────────────┬─────────────┐\n",
       "│ aapl_open ┆ aapl_high ┆ aapl_low ┆ aapl_close ┆ aapl_adj_close ┆ aapl_volume │\n",
       "│ ---       ┆ ---       ┆ ---      ┆ ---        ┆ ---            ┆ ---         │\n",
       "│ f64       ┆ f64       ┆ f64      ┆ f64        ┆ f64            ┆ f64         │\n",
       "╞═══════════╪═══════════╪══════════╪════════════╪════════════════╪═════════════╡\n",
       "│ 2.585     ┆ 2.6696    ┆ 2.5804   ┆ 2.2722     ┆ 2.2722         ┆ 8.0723443e8 │\n",
       "│ 2.6832    ┆ 2.7136    ┆ 2.6607   ┆ 2.2789     ┆ 2.2789         ┆ 6.196036e8  │\n",
       "│ 2.6725    ┆ 2.675     ┆ 2.6339   ┆ 2.2609     ┆ 2.2609         ┆ 4.494224e8  │\n",
       "│ 2.6875    ┆ 2.7393    ┆ 2.6625   ┆ 2.3193     ┆ 2.3193         ┆ 7.044576e8  │\n",
       "│ 2.7404    ┆ 2.7571    ┆ 2.705    ┆ 2.3118     ┆ 2.3118         ┆ 6.7504077e8 │\n",
       "│ …         ┆ …         ┆ …        ┆ …          ┆ …              ┆ …           │\n",
       "│ 195.18    ┆ 195.41    ┆ 192.97   ┆ 193.6      ┆ 193.6          ┆ 3.71228e7   │\n",
       "│ 193.61    ┆ 193.89    ┆ 192.83   ┆ 193.05     ┆ 193.05         ┆ 2.89193e7   │\n",
       "│ 192.49    ┆ 193.5     ┆ 191.09   ┆ 193.15     ┆ 193.15         ┆ 4.80877e7   │\n",
       "│ 194.14    ┆ 194.66    ┆ 193.17   ┆ 193.58     ┆ 193.58         ┆ 3.40499e7   │\n",
       "│ 193.9     ┆ 194.4     ┆ 191.73   ┆ 192.53     ┆ 192.53         ┆ 4.26288e7   │\n",
       "└───────────┴───────────┴──────────┴────────────┴────────────────┴─────────────┘"
      ]
     },
     "execution_count": 5,
     "metadata": {},
     "output_type": "execute_result"
    }
   ],
   "source": [
    "query=net_functions.create_query(tickers[0],table_name)\n",
    "cursor,conn=net_functions.create_cursor(dbname,dbuser,dbpassword,dbport,dbhost)\n",
    "data=pl.read_database(query=query,connection=conn)\n",
    "#data=data.with_columns(pl.col('aapl_adj_close').pct_change().alias('labels'))\n",
    "#normalize with pandas\n",
    "#data= data.select((pl.all()-pl.all().mean()) / pl.all().std())\n",
    "\n",
    "data=data.drop_nulls()\n",
    "data\n"
   ]
  },
  {
   "cell_type": "code",
   "execution_count": 6,
   "metadata": {},
   "outputs": [],
   "source": [
    "#get data from polars\n",
    "#labels=data['labels']\n",
    "train_data=data['aapl_high']\n",
    "#make polars data into torch tensors\n",
    "train_data=torch.tensor(train_data)\n",
    "\n",
    "batch_size=32"
   ]
  },
  {
   "cell_type": "code",
   "execution_count": 7,
   "metadata": {},
   "outputs": [],
   "source": [
    "#shorten the tensor\n",
    "shortened_tensor=net_functions.tensor_shortner(train_data, batch_size)\n",
    "#create batches of 32\n",
    "image_tensor=net_functions.image_builder(shortened_tensor,batch_size=batch_size)\n",
    "#create tensor\n",
    "labels=net_functions.change(image_tensor, batch_size)\n",
    "#cut the last image from data variable to adjust for change function\n",
    "image_tensor=image_tensor[:-1]\n"
   ]
  },
  {
   "cell_type": "code",
   "execution_count": 8,
   "metadata": {},
   "outputs": [
    {
     "data": {
      "text/plain": [
       "40"
      ]
     },
     "execution_count": 8,
     "metadata": {},
     "output_type": "execute_result"
    }
   ],
   "source": [
    "labels=[x+20 for x in labels]\n",
    "max(labels)"
   ]
  },
  {
   "cell_type": "code",
   "execution_count": 9,
   "metadata": {},
   "outputs": [],
   "source": [
    "#make labels and data into tensors\n",
    "labels=torch.tensor(labels,dtype=torch.int32)\n",
    "\n",
    "labels=labels.type(torch.LongTensor)\n",
    "image_tensor=torch.tensor(image_tensor)\n",
    "\n",
    "image_tensor=net_functions.make_tensor(data,image_tensor,tickers[0])\n",
    "\n",
    "\n",
    "#normalize data tensor\n",
    "#image_tensor=net_functions.fit_to_range_tensor(image_tensor)\n",
    "\n",
    "\n",
    "#move them to gpu\n",
    "labels=labels.to(device)\n",
    "image_tensor=image_tensor.to(device)\n",
    "\n"
   ]
  },
  {
   "cell_type": "code",
   "execution_count": 10,
   "metadata": {},
   "outputs": [
    {
     "name": "stdout",
     "output_type": "stream",
     "text": [
      "torch.Size([4478, 4, 32])\n"
     ]
    }
   ],
   "source": [
    "def min_max_normalize(tensor):\n",
    "    for c in range(tensor.size(1)):\n",
    "        channel_min = tensor[:, c, :].min()\n",
    "        channel_max = tensor[:, c, :].max()\n",
    "        tensor[:, c, :] = (tensor[:, c, :] - channel_min) / (channel_max - channel_min)\n",
    "    return tensor\n",
    "\n",
    "print(image_tensor.shape)\n",
    "image_tensor = min_max_normalize(image_tensor)  # Use clone() to avoid modifying the original tensor\n",
    "\n"
   ]
  },
  {
   "cell_type": "code",
   "execution_count": 11,
   "metadata": {},
   "outputs": [],
   "source": [
    "#split data with sklearn\n",
    "train_dataset,test_dataset,train_labels,test_labels=train_test_split(image_tensor,labels,test_size=.1)\n",
    "\n"
   ]
  },
  {
   "cell_type": "code",
   "execution_count": 12,
   "metadata": {},
   "outputs": [],
   "source": [
    "class SGDRScheduler(_LRScheduler):\n",
    "    def __init__(self, optimizer, T_0, T_mult=1, eta_min=0, last_epoch=-1):\n",
    "        self.T_0 = T_0\n",
    "        self.T_cur = 0\n",
    "        self.T_mult = T_mult\n",
    "        self.eta_min = eta_min\n",
    "        super(SGDRScheduler, self).__init__(optimizer, last_epoch)\n",
    "    \n",
    "    def get_lr(self):\n",
    "        if self.T_cur == 0:\n",
    "            self.T_i = self.T_0\n",
    "        else:\n",
    "            self.T_i = self.T_0 * (self.T_mult ** (self.last_epoch // self.T_0))\n",
    "        \n",
    "        cos_inner = np.pi * (self.T_cur % self.T_i)\n",
    "        cos_inner /= self.T_i\n",
    "        cos_out = np.cos(cos_inner) + 1\n",
    "        return [self.eta_min + (base_lr - self.eta_min) / 2 * cos_out for base_lr in self.base_lrs]\n",
    "    \n",
    "    def step(self, epoch=None):\n",
    "        if epoch is not None:\n",
    "            self.T_cur = epoch % self.T_i\n",
    "        super(SGDRScheduler, self).step(epoch)\n",
    "        if epoch is not None and epoch % self.T_i == 0:\n",
    "            self.T_cur = 0\n"
   ]
  },
  {
   "cell_type": "code",
   "execution_count": 13,
   "metadata": {
    "tags": [
     "parameters"
    ]
   },
   "outputs": [],
   "source": [
    "\n",
    "\n",
    "\n",
    "def createTheMNISTNet(printtoggle=False):\n",
    "\n",
    "  class mnistNet(nn.Module):\n",
    "    def __init__(self, printtoggle=False):\n",
    "        super().__init__()\n",
    "\n",
    "        # Input layer for 1D data of size 32\n",
    "        self.conv1 = nn.Conv1d(in_channels=4, out_channels=4, kernel_size=3, stride=1, padding=2)\n",
    "        self.conv2 = nn.Conv1d(in_channels=4, out_channels=4, kernel_size=3, stride=1, padding=2)\n",
    "        \n",
    "        \n",
    "        self.pool=nn.MaxPool1d(kernel_size=2, stride=1)\n",
    "        # fully-connected layers\n",
    "        self.fc1 = nn.Linear(136, 128) \n",
    "        self.fc2 = nn.Linear(128, 128)\n",
    "        self.fc3 = nn.Linear(416, 208)\n",
    "        self.fc4 = nn.Linear(128, 64)  # Assuming 10 output classes\n",
    "        self.fc5 = nn.Linear(64, 41)  # Assuming 10 output classes\n",
    "\n",
    "        # toggle for printing out tensor sizes during forward prop\n",
    "        #self.print = printtoggle\n",
    "        self.dropout = nn.Dropout(p=0.25)\n",
    "        # Use GPU if available\n",
    "        self.device = \"cuda\" if torch.cuda.is_available() else \"cpu\"\n",
    "        self.to(self.device)  # Move the model to the chosen device\n",
    "\n",
    "    # forward pass\n",
    "    def forward(self, x):\n",
    "        # Move input to device\n",
    "        #x = x.to(self.device)\n",
    "\n",
    "        #print(f' inainte de conv: {x.shape}')\n",
    "\n",
    "        # Convolution -> relu\n",
    "        x = F.relu(self.conv1(x))\n",
    "        x = self.pool(x)\n",
    "        x = self.dropout(x)\n",
    "        \n",
    "        # Convolution -> relu\n",
    "        x = F.relu(self.conv2(x))\n",
    "        x = self.pool(x)\n",
    "        x = self.dropout(x)\n",
    "        \n",
    "        x = x.view(-1)  # Flatten the tensor\n",
    "        # Fully connected layer\n",
    "        \n",
    "        x = F.relu(self.fc1(x))\n",
    "        x = self.dropout(x)\n",
    "\n",
    "        x = F.relu(self.fc2(x))\n",
    "        x = self.dropout(x)\n",
    "\n",
    "        #x = F.relu(self.fc3(x))\n",
    "        #x = self.dropout(x)\n",
    "\n",
    "        x = F.relu(self.fc4(x))\n",
    "        x = self.dropout(x)\n",
    "\n",
    "        x = self.fc5(x)\n",
    "        return x\n",
    "\n",
    "\n",
    "\n",
    "\n",
    "\n",
    "  # create the model instance\n",
    "  net = mnistNet(printtoggle)\n",
    "  \n",
    "  # loss function (assuming classification task)\n",
    "  lossfun = nn.CrossEntropyLoss()\n",
    "\n",
    "  # optimizer\n",
    "  optimizer = optim.SGD(net.parameters(),lr=.01)\n",
    "  T_0=30\n",
    "  scheduler=SGDRScheduler(optimizer, T_0=T_0,T_mult=2,eta_min=0.005)  \n",
    "\n",
    "  return net,lossfun,optimizer\n"
   ]
  },
  {
   "cell_type": "code",
   "execution_count": 14,
   "metadata": {},
   "outputs": [],
   "source": [
    "def function2trainTheModel(train_dataset, train_labels, test_dataset, test_labels,numepochs = 50):\n",
    "\n",
    "  # number of epochs\n",
    "  \n",
    "  \n",
    "  # create a new model\n",
    "  net, lossfun, optimizer = createTheMNISTNet()\n",
    "\n",
    "  # initialize losses\n",
    "  losses = torch.zeros(numepochs).to(device)\n",
    "  trainAcc = []\n",
    "  testAcc = []\n",
    "  z=0\n",
    "  # loop over epochs\n",
    "  for epochi in range(numepochs):\n",
    "    z+=1\n",
    "    # initialize batch losses and accuracies\n",
    "    epochLoss = 0.0\n",
    "    epochAcc = 0.0\n",
    "    print(z)\n",
    "    # loop over training data batches\n",
    "    for i in range(train_dataset.size()[0]):\n",
    "      X=train_dataset[i]\n",
    "      y=train_labels[i]\n",
    "      \n",
    "      #X = X.unsqueeze(1)  # Add a singleton dimension for the channel axis\n",
    "     \n",
    "      # forward pass and loss\n",
    "      yHat = net(X)\n",
    "        \n",
    "      loss = lossfun(yHat, y)\n",
    "      # backprop\n",
    "      optimizer.zero_grad()\n",
    "      loss.backward()\n",
    "      optimizer.step()\n",
    "\n",
    "      # accumulate batch loss\n",
    "      epochLoss += loss.item()\n",
    "\n",
    "      # compute accuracy\n",
    "      matches = torch.argmax(yHat, axis=0) == y\n",
    "      accuracyPct = 100 * torch.mean(matches.float())\n",
    "      epochAcc += accuracyPct.item()\n",
    "\n",
    "    # end of batch loop\n",
    "\n",
    "    # average loss and accuracy for the epoch\n",
    "    epochLoss /= train_dataset.size()[0]\n",
    "    epochAcc /= train_dataset.size()[0]\n",
    "\n",
    "    # append to lists\n",
    "    losses[epochi] = epochLoss\n",
    "    trainAcc.append(epochAcc)\n",
    "\n",
    "    # test accuracy (evaluate on test set)\n",
    "    test_epochAcc = 0\n",
    "    total_correct = 0\n",
    "    total_samples = 0\n",
    "    \n",
    "    '''with torch.no_grad():\n",
    "        for X_test, y_test in test_loader:\n",
    "            X_test, y_test = X_test.to(device), y_test.to(device)  # Move data to device\n",
    "            yHat_test = net(X_test)\n",
    "            matches_test = torch.argmax(yHat_test, dim=1) == y_test\n",
    "            total_correct += matches_test.sum().item()\n",
    "            total_samples += y_test.size(0)\n",
    "    \n",
    "    test_epochAcc = 100 * total_correct / total_samples\n",
    "    testAcc.append(test_epochAcc)\n",
    "\n",
    "     ''' \n",
    "    test_epochAcc = 0.0\n",
    "    with torch.no_grad():\n",
    "      for i_test in range(test_dataset.size()[0]):\n",
    "        X_test=test_dataset[i_test]\n",
    "        y_test=test_labels[i_test]\n",
    "        yHat_test=net(X_test)\n",
    "        matches_test = torch.argmax(yHat_test, axis=0) == y_test\n",
    "        accuracyPct_test = 100 * torch.mean(matches_test.float())\n",
    "        test_epochAcc += accuracyPct_test.item()\n",
    "    test_epochAcc /= train_dataset.size()[0]\n",
    "    testAcc.append(test_epochAcc)\n",
    "\n",
    "  # end epochs loop\n",
    "\n",
    "  # function output\n",
    "  return trainAcc, testAcc, losses, net\n",
    "\n"
   ]
  },
  {
   "cell_type": "code",
   "execution_count": 21,
   "metadata": {
    "scrolled": true
   },
   "outputs": [
    {
     "name": "stdout",
     "output_type": "stream",
     "text": [
      "1\n",
      "2\n",
      "3\n",
      "4\n",
      "5\n",
      "6\n",
      "7\n",
      "8\n",
      "9\n",
      "10\n",
      "11\n",
      "12\n",
      "13\n",
      "14\n",
      "15\n",
      "16\n",
      "17\n",
      "18\n",
      "19\n",
      "20\n",
      "21\n",
      "22\n",
      "23\n",
      "24\n",
      "25\n",
      "26\n",
      "27\n",
      "28\n",
      "29\n",
      "30\n",
      "31\n",
      "32\n",
      "33\n",
      "34\n",
      "35\n",
      "36\n",
      "37\n",
      "38\n",
      "39\n",
      "40\n",
      "41\n",
      "42\n",
      "43\n",
      "44\n",
      "45\n",
      "46\n",
      "47\n",
      "48\n",
      "49\n",
      "50\n",
      "51\n",
      "52\n",
      "53\n",
      "54\n",
      "55\n",
      "56\n",
      "57\n",
      "58\n",
      "59\n",
      "60\n",
      "61\n",
      "62\n",
      "63\n",
      "64\n",
      "65\n",
      "66\n",
      "67\n",
      "68\n",
      "69\n",
      "70\n",
      "71\n",
      "72\n",
      "73\n",
      "74\n",
      "75\n",
      "76\n",
      "77\n",
      "78\n",
      "79\n",
      "80\n",
      "81\n",
      "82\n",
      "83\n",
      "84\n",
      "85\n",
      "86\n",
      "87\n",
      "88\n",
      "89\n",
      "90\n",
      "91\n",
      "92\n",
      "93\n",
      "94\n",
      "95\n",
      "96\n",
      "97\n",
      "98\n",
      "99\n",
      "100\n"
     ]
    }
   ],
   "source": [
    "\n",
    "trainAcc,testAcc,losses,net = function2trainTheModel(train_dataset, train_labels, test_dataset, test_labels,numepochs = 100)\n"
   ]
  },
  {
   "cell_type": "code",
   "execution_count": 22,
   "metadata": {
    "scrolled": true
   },
   "outputs": [
    {
     "data": {
      "text/plain": [
       "[0.6947890818858561,\n",
       " 0.6699751861042184,\n",
       " 0.6947890818858561,\n",
       " 0.8684863523573201,\n",
       " 1.0173697270471465,\n",
       " 1.0173697270471465,\n",
       " 1.0918114143920596,\n",
       " 1.0421836228287842,\n",
       " 1.0173697270471465,\n",
       " 0.8436724565756824,\n",
       " 1.1166253101736974,\n",
       " 1.1414392059553349,\n",
       " 0.794044665012407,\n",
       " 0.9429280397022333,\n",
       " 1.1166253101736974,\n",
       " 0.9181141439205955,\n",
       " 0.9181141439205955,\n",
       " 0.967741935483871,\n",
       " 1.0918114143920596,\n",
       " 0.967741935483871,\n",
       " 1.0918114143920596,\n",
       " 1.0421836228287842,\n",
       " 1.1662531017369726,\n",
       " 1.0173697270471465,\n",
       " 1.1414392059553349,\n",
       " 1.1166253101736974,\n",
       " 1.1662531017369726,\n",
       " 1.0173697270471465,\n",
       " 1.215880893300248,\n",
       " 1.1166253101736974,\n",
       " 1.0173697270471465,\n",
       " 1.0918114143920596,\n",
       " 1.0421836228287842,\n",
       " 1.215880893300248,\n",
       " 0.9925558312655087,\n",
       " 1.1166253101736974,\n",
       " 1.0918114143920596,\n",
       " 1.1910669975186103,\n",
       " 0.9925558312655087,\n",
       " 1.215880893300248,\n",
       " 0.967741935483871,\n",
       " 0.9925558312655087,\n",
       " 1.2655086848635235,\n",
       " 1.1414392059553349,\n",
       " 0.8933002481389578,\n",
       " 0.967741935483871,\n",
       " 1.1910669975186103,\n",
       " 1.1414392059553349,\n",
       " 1.066997518610422,\n",
       " 1.0421836228287842,\n",
       " 1.0918114143920596,\n",
       " 0.9925558312655087,\n",
       " 1.0173697270471465,\n",
       " 1.1910669975186103,\n",
       " 0.8933002481389578,\n",
       " 0.8684863523573201,\n",
       " 1.2655086848635235,\n",
       " 1.0918114143920596,\n",
       " 1.0918114143920596,\n",
       " 1.1414392059553349,\n",
       " 0.9925558312655087,\n",
       " 1.1414392059553349,\n",
       " 1.0421836228287842,\n",
       " 1.1662531017369726,\n",
       " 0.9925558312655087,\n",
       " 1.1166253101736974,\n",
       " 1.066997518610422,\n",
       " 1.315136476426799,\n",
       " 1.1910669975186103,\n",
       " 0.9181141439205955,\n",
       " 1.1414392059553349,\n",
       " 1.0173697270471465,\n",
       " 1.2903225806451613,\n",
       " 0.9181141439205955,\n",
       " 1.0918114143920596,\n",
       " 0.967741935483871,\n",
       " 0.9429280397022333,\n",
       " 1.0173697270471465,\n",
       " 0.9429280397022333,\n",
       " 1.2903225806451613,\n",
       " 1.2406947890818858,\n",
       " 1.1414392059553349,\n",
       " 1.1166253101736974,\n",
       " 0.9925558312655087,\n",
       " 1.1662531017369726,\n",
       " 0.9429280397022333,\n",
       " 0.9181141439205955,\n",
       " 0.9181141439205955,\n",
       " 1.0421836228287842,\n",
       " 1.0421836228287842,\n",
       " 0.9429280397022333,\n",
       " 1.41439205955335,\n",
       " 0.9181141439205955,\n",
       " 1.2655086848635235,\n",
       " 1.2655086848635235,\n",
       " 1.1414392059553349,\n",
       " 1.2655086848635235,\n",
       " 1.2655086848635235,\n",
       " 1.2655086848635235,\n",
       " 1.1166253101736974]"
      ]
     },
     "execution_count": 22,
     "metadata": {},
     "output_type": "execute_result"
    }
   ],
   "source": [
    "testAcc"
   ]
  },
  {
   "cell_type": "code",
   "execution_count": 23,
   "metadata": {},
   "outputs": [
    {
     "data": {
      "text/plain": [
       "Text(0.5, 1.0, 'losses over time')"
      ]
     },
     "execution_count": 23,
     "metadata": {},
     "output_type": "execute_result"
    },
    {
     "data": {
      "image/png": "[encoded data removed]",
      "text/plain": [
       "<Figure size 640x480 with 1 Axes>"
      ]
     },
     "metadata": {},
     "output_type": "display_data"
    }
   ],
   "source": [
    "nploss=losses.to(\"cpu\")\n",
    "nploss=nploss.cpu()\n",
    "losses=losses.cpu().numpy()\n",
    "plt.plot(losses)\n",
    "\n",
    "plt.title('losses over time')\n"
   ]
  },
  {
   "cell_type": "code",
   "execution_count": 19,
   "metadata": {},
   "outputs": [],
   "source": [
    "def test(model, device, test_dataset, test_labels, criterion):\n",
    "    model.eval()\n",
    "    test_loss = 0\n",
    "    correct = 0\n",
    "    with torch.no_grad():\n",
    "      for i_test in range(test_dataset.size()[0]):\n",
    "        X_test=test_dataset[i_test]\n",
    "        y_test=test_labels[i_test]\n",
    "        X_test, y_test = X_test.to(device), y_test.to(device)\n",
    "        X_test=X_test.unsqueeze(1)\n",
    "        output = model(X_test)\n",
    "        test_loss += criterion(output, y_test).item()  # Sum up batch loss\n",
    "        pred = output.argmax(dim=1, keepdim=True)  # Get the index of the max log-probability\n",
    "        correct += pred.eq(target.view_as(pred)).sum().item()\n",
    "\n",
    "    test_loss /= len(test_dataset)\n",
    "    accuracy = 100. * correct / len(test_dataset)\n",
    "    print(f'\\nTest set: Average loss: {test_loss:.4f}, Accuracy: {correct}/{len(test_dataset)} '\n",
    "          f'({accuracy:.0f}%)\\n')\n",
    "    print(nploss)"
   ]
  },
  {
   "cell_type": "code",
   "execution_count": 20,
   "metadata": {},
   "outputs": [
    {
     "ename": "RuntimeError",
     "evalue": "Given groups=1, weight of size [4, 4, 3], expected input[4, 1, 32] to have 4 channels, but got 1 channels instead",
     "output_type": "error",
     "traceback": [
      "\u001b[0;31m---------------------------------------------------------------------------\u001b[0m",
      "\u001b[0;31mRuntimeError\u001b[0m                              Traceback (most recent call last)",
      "Cell \u001b[0;32mIn[20], line 1\u001b[0m\n\u001b[0;32m----> 1\u001b[0m \u001b[43mtest\u001b[49m\u001b[43m(\u001b[49m\u001b[43mnet\u001b[49m\u001b[43m,\u001b[49m\u001b[43mdevice\u001b[49m\u001b[43m,\u001b[49m\u001b[43mtest_dataset\u001b[49m\u001b[43m,\u001b[49m\u001b[43m \u001b[49m\u001b[43mtest_labels\u001b[49m\u001b[43m,\u001b[49m\u001b[43mnn\u001b[49m\u001b[38;5;241;43m.\u001b[39;49m\u001b[43mCrossEntropyLoss\u001b[49m\u001b[43m(\u001b[49m\u001b[43m)\u001b[49m\u001b[43m)\u001b[49m\n",
      "Cell \u001b[0;32mIn[19], line 11\u001b[0m, in \u001b[0;36mtest\u001b[0;34m(model, device, test_dataset, test_labels, criterion)\u001b[0m\n\u001b[1;32m      9\u001b[0m X_test, y_test \u001b[38;5;241m=\u001b[39m X_test\u001b[38;5;241m.\u001b[39mto(device), y_test\u001b[38;5;241m.\u001b[39mto(device)\n\u001b[1;32m     10\u001b[0m X_test\u001b[38;5;241m=\u001b[39mX_test\u001b[38;5;241m.\u001b[39munsqueeze(\u001b[38;5;241m1\u001b[39m)\n\u001b[0;32m---> 11\u001b[0m output \u001b[38;5;241m=\u001b[39m \u001b[43mmodel\u001b[49m\u001b[43m(\u001b[49m\u001b[43mX_test\u001b[49m\u001b[43m)\u001b[49m\n\u001b[1;32m     12\u001b[0m test_loss \u001b[38;5;241m+\u001b[39m\u001b[38;5;241m=\u001b[39m criterion(output, y_test)\u001b[38;5;241m.\u001b[39mitem()  \u001b[38;5;66;03m# Sum up batch loss\u001b[39;00m\n\u001b[1;32m     13\u001b[0m pred \u001b[38;5;241m=\u001b[39m output\u001b[38;5;241m.\u001b[39margmax(dim\u001b[38;5;241m=\u001b[39m\u001b[38;5;241m1\u001b[39m, keepdim\u001b[38;5;241m=\u001b[39m\u001b[38;5;28;01mTrue\u001b[39;00m)  \u001b[38;5;66;03m# Get the index of the max log-probability\u001b[39;00m\n",
      "File \u001b[0;32m~/.local/lib/python3.10/site-packages/torch/nn/modules/module.py:1532\u001b[0m, in \u001b[0;36mModule._wrapped_call_impl\u001b[0;34m(self, *args, **kwargs)\u001b[0m\n\u001b[1;32m   1530\u001b[0m     \u001b[38;5;28;01mreturn\u001b[39;00m \u001b[38;5;28mself\u001b[39m\u001b[38;5;241m.\u001b[39m_compiled_call_impl(\u001b[38;5;241m*\u001b[39margs, \u001b[38;5;241m*\u001b[39m\u001b[38;5;241m*\u001b[39mkwargs)  \u001b[38;5;66;03m# type: ignore[misc]\u001b[39;00m\n\u001b[1;32m   1531\u001b[0m \u001b[38;5;28;01melse\u001b[39;00m:\n\u001b[0;32m-> 1532\u001b[0m     \u001b[38;5;28;01mreturn\u001b[39;00m \u001b[38;5;28;43mself\u001b[39;49m\u001b[38;5;241;43m.\u001b[39;49m\u001b[43m_call_impl\u001b[49m\u001b[43m(\u001b[49m\u001b[38;5;241;43m*\u001b[39;49m\u001b[43margs\u001b[49m\u001b[43m,\u001b[49m\u001b[43m \u001b[49m\u001b[38;5;241;43m*\u001b[39;49m\u001b[38;5;241;43m*\u001b[39;49m\u001b[43mkwargs\u001b[49m\u001b[43m)\u001b[49m\n",
      "File \u001b[0;32m~/.local/lib/python3.10/site-packages/torch/nn/modules/module.py:1541\u001b[0m, in \u001b[0;36mModule._call_impl\u001b[0;34m(self, *args, **kwargs)\u001b[0m\n\u001b[1;32m   1536\u001b[0m \u001b[38;5;66;03m# If we don't have any hooks, we want to skip the rest of the logic in\u001b[39;00m\n\u001b[1;32m   1537\u001b[0m \u001b[38;5;66;03m# this function, and just call forward.\u001b[39;00m\n\u001b[1;32m   1538\u001b[0m \u001b[38;5;28;01mif\u001b[39;00m \u001b[38;5;129;01mnot\u001b[39;00m (\u001b[38;5;28mself\u001b[39m\u001b[38;5;241m.\u001b[39m_backward_hooks \u001b[38;5;129;01mor\u001b[39;00m \u001b[38;5;28mself\u001b[39m\u001b[38;5;241m.\u001b[39m_backward_pre_hooks \u001b[38;5;129;01mor\u001b[39;00m \u001b[38;5;28mself\u001b[39m\u001b[38;5;241m.\u001b[39m_forward_hooks \u001b[38;5;129;01mor\u001b[39;00m \u001b[38;5;28mself\u001b[39m\u001b[38;5;241m.\u001b[39m_forward_pre_hooks\n\u001b[1;32m   1539\u001b[0m         \u001b[38;5;129;01mor\u001b[39;00m _global_backward_pre_hooks \u001b[38;5;129;01mor\u001b[39;00m _global_backward_hooks\n\u001b[1;32m   1540\u001b[0m         \u001b[38;5;129;01mor\u001b[39;00m _global_forward_hooks \u001b[38;5;129;01mor\u001b[39;00m _global_forward_pre_hooks):\n\u001b[0;32m-> 1541\u001b[0m     \u001b[38;5;28;01mreturn\u001b[39;00m \u001b[43mforward_call\u001b[49m\u001b[43m(\u001b[49m\u001b[38;5;241;43m*\u001b[39;49m\u001b[43margs\u001b[49m\u001b[43m,\u001b[49m\u001b[43m \u001b[49m\u001b[38;5;241;43m*\u001b[39;49m\u001b[38;5;241;43m*\u001b[39;49m\u001b[43mkwargs\u001b[49m\u001b[43m)\u001b[49m\n\u001b[1;32m   1543\u001b[0m \u001b[38;5;28;01mtry\u001b[39;00m:\n\u001b[1;32m   1544\u001b[0m     result \u001b[38;5;241m=\u001b[39m \u001b[38;5;28;01mNone\u001b[39;00m\n",
      "Cell \u001b[0;32mIn[13], line 35\u001b[0m, in \u001b[0;36mcreateTheMNISTNet.<locals>.mnistNet.forward\u001b[0;34m(self, x)\u001b[0m\n\u001b[1;32m     28\u001b[0m \u001b[38;5;28;01mdef\u001b[39;00m \u001b[38;5;21mforward\u001b[39m(\u001b[38;5;28mself\u001b[39m, x):\n\u001b[1;32m     29\u001b[0m     \u001b[38;5;66;03m# Move input to device\u001b[39;00m\n\u001b[1;32m     30\u001b[0m     \u001b[38;5;66;03m#x = x.to(self.device)\u001b[39;00m\n\u001b[0;32m   (...)\u001b[0m\n\u001b[1;32m     33\u001b[0m \n\u001b[1;32m     34\u001b[0m     \u001b[38;5;66;03m# Convolution -> relu\u001b[39;00m\n\u001b[0;32m---> 35\u001b[0m     x \u001b[38;5;241m=\u001b[39m F\u001b[38;5;241m.\u001b[39mrelu(\u001b[38;5;28;43mself\u001b[39;49m\u001b[38;5;241;43m.\u001b[39;49m\u001b[43mconv1\u001b[49m\u001b[43m(\u001b[49m\u001b[43mx\u001b[49m\u001b[43m)\u001b[49m)\n\u001b[1;32m     36\u001b[0m     x \u001b[38;5;241m=\u001b[39m \u001b[38;5;28mself\u001b[39m\u001b[38;5;241m.\u001b[39mpool(x)\n\u001b[1;32m     37\u001b[0m     x \u001b[38;5;241m=\u001b[39m \u001b[38;5;28mself\u001b[39m\u001b[38;5;241m.\u001b[39mdropout(x)\n",
      "File \u001b[0;32m~/.local/lib/python3.10/site-packages/torch/nn/modules/module.py:1532\u001b[0m, in \u001b[0;36mModule._wrapped_call_impl\u001b[0;34m(self, *args, **kwargs)\u001b[0m\n\u001b[1;32m   1530\u001b[0m     \u001b[38;5;28;01mreturn\u001b[39;00m \u001b[38;5;28mself\u001b[39m\u001b[38;5;241m.\u001b[39m_compiled_call_impl(\u001b[38;5;241m*\u001b[39margs, \u001b[38;5;241m*\u001b[39m\u001b[38;5;241m*\u001b[39mkwargs)  \u001b[38;5;66;03m# type: ignore[misc]\u001b[39;00m\n\u001b[1;32m   1531\u001b[0m \u001b[38;5;28;01melse\u001b[39;00m:\n\u001b[0;32m-> 1532\u001b[0m     \u001b[38;5;28;01mreturn\u001b[39;00m \u001b[38;5;28;43mself\u001b[39;49m\u001b[38;5;241;43m.\u001b[39;49m\u001b[43m_call_impl\u001b[49m\u001b[43m(\u001b[49m\u001b[38;5;241;43m*\u001b[39;49m\u001b[43margs\u001b[49m\u001b[43m,\u001b[49m\u001b[43m \u001b[49m\u001b[38;5;241;43m*\u001b[39;49m\u001b[38;5;241;43m*\u001b[39;49m\u001b[43mkwargs\u001b[49m\u001b[43m)\u001b[49m\n",
      "File \u001b[0;32m~/.local/lib/python3.10/site-packages/torch/nn/modules/module.py:1541\u001b[0m, in \u001b[0;36mModule._call_impl\u001b[0;34m(self, *args, **kwargs)\u001b[0m\n\u001b[1;32m   1536\u001b[0m \u001b[38;5;66;03m# If we don't have any hooks, we want to skip the rest of the logic in\u001b[39;00m\n\u001b[1;32m   1537\u001b[0m \u001b[38;5;66;03m# this function, and just call forward.\u001b[39;00m\n\u001b[1;32m   1538\u001b[0m \u001b[38;5;28;01mif\u001b[39;00m \u001b[38;5;129;01mnot\u001b[39;00m (\u001b[38;5;28mself\u001b[39m\u001b[38;5;241m.\u001b[39m_backward_hooks \u001b[38;5;129;01mor\u001b[39;00m \u001b[38;5;28mself\u001b[39m\u001b[38;5;241m.\u001b[39m_backward_pre_hooks \u001b[38;5;129;01mor\u001b[39;00m \u001b[38;5;28mself\u001b[39m\u001b[38;5;241m.\u001b[39m_forward_hooks \u001b[38;5;129;01mor\u001b[39;00m \u001b[38;5;28mself\u001b[39m\u001b[38;5;241m.\u001b[39m_forward_pre_hooks\n\u001b[1;32m   1539\u001b[0m         \u001b[38;5;129;01mor\u001b[39;00m _global_backward_pre_hooks \u001b[38;5;129;01mor\u001b[39;00m _global_backward_hooks\n\u001b[1;32m   1540\u001b[0m         \u001b[38;5;129;01mor\u001b[39;00m _global_forward_hooks \u001b[38;5;129;01mor\u001b[39;00m _global_forward_pre_hooks):\n\u001b[0;32m-> 1541\u001b[0m     \u001b[38;5;28;01mreturn\u001b[39;00m \u001b[43mforward_call\u001b[49m\u001b[43m(\u001b[49m\u001b[38;5;241;43m*\u001b[39;49m\u001b[43margs\u001b[49m\u001b[43m,\u001b[49m\u001b[43m \u001b[49m\u001b[38;5;241;43m*\u001b[39;49m\u001b[38;5;241;43m*\u001b[39;49m\u001b[43mkwargs\u001b[49m\u001b[43m)\u001b[49m\n\u001b[1;32m   1543\u001b[0m \u001b[38;5;28;01mtry\u001b[39;00m:\n\u001b[1;32m   1544\u001b[0m     result \u001b[38;5;241m=\u001b[39m \u001b[38;5;28;01mNone\u001b[39;00m\n",
      "File \u001b[0;32m~/.local/lib/python3.10/site-packages/torch/nn/modules/conv.py:310\u001b[0m, in \u001b[0;36mConv1d.forward\u001b[0;34m(self, input)\u001b[0m\n\u001b[1;32m    309\u001b[0m \u001b[38;5;28;01mdef\u001b[39;00m \u001b[38;5;21mforward\u001b[39m(\u001b[38;5;28mself\u001b[39m, \u001b[38;5;28minput\u001b[39m: Tensor) \u001b[38;5;241m-\u001b[39m\u001b[38;5;241m>\u001b[39m Tensor:\n\u001b[0;32m--> 310\u001b[0m     \u001b[38;5;28;01mreturn\u001b[39;00m \u001b[38;5;28;43mself\u001b[39;49m\u001b[38;5;241;43m.\u001b[39;49m\u001b[43m_conv_forward\u001b[49m\u001b[43m(\u001b[49m\u001b[38;5;28;43minput\u001b[39;49m\u001b[43m,\u001b[49m\u001b[43m \u001b[49m\u001b[38;5;28;43mself\u001b[39;49m\u001b[38;5;241;43m.\u001b[39;49m\u001b[43mweight\u001b[49m\u001b[43m,\u001b[49m\u001b[43m \u001b[49m\u001b[38;5;28;43mself\u001b[39;49m\u001b[38;5;241;43m.\u001b[39;49m\u001b[43mbias\u001b[49m\u001b[43m)\u001b[49m\n",
      "File \u001b[0;32m~/.local/lib/python3.10/site-packages/torch/nn/modules/conv.py:306\u001b[0m, in \u001b[0;36mConv1d._conv_forward\u001b[0;34m(self, input, weight, bias)\u001b[0m\n\u001b[1;32m    302\u001b[0m \u001b[38;5;28;01mif\u001b[39;00m \u001b[38;5;28mself\u001b[39m\u001b[38;5;241m.\u001b[39mpadding_mode \u001b[38;5;241m!=\u001b[39m \u001b[38;5;124m'\u001b[39m\u001b[38;5;124mzeros\u001b[39m\u001b[38;5;124m'\u001b[39m:\n\u001b[1;32m    303\u001b[0m     \u001b[38;5;28;01mreturn\u001b[39;00m F\u001b[38;5;241m.\u001b[39mconv1d(F\u001b[38;5;241m.\u001b[39mpad(\u001b[38;5;28minput\u001b[39m, \u001b[38;5;28mself\u001b[39m\u001b[38;5;241m.\u001b[39m_reversed_padding_repeated_twice, mode\u001b[38;5;241m=\u001b[39m\u001b[38;5;28mself\u001b[39m\u001b[38;5;241m.\u001b[39mpadding_mode),\n\u001b[1;32m    304\u001b[0m                     weight, bias, \u001b[38;5;28mself\u001b[39m\u001b[38;5;241m.\u001b[39mstride,\n\u001b[1;32m    305\u001b[0m                     _single(\u001b[38;5;241m0\u001b[39m), \u001b[38;5;28mself\u001b[39m\u001b[38;5;241m.\u001b[39mdilation, \u001b[38;5;28mself\u001b[39m\u001b[38;5;241m.\u001b[39mgroups)\n\u001b[0;32m--> 306\u001b[0m \u001b[38;5;28;01mreturn\u001b[39;00m \u001b[43mF\u001b[49m\u001b[38;5;241;43m.\u001b[39;49m\u001b[43mconv1d\u001b[49m\u001b[43m(\u001b[49m\u001b[38;5;28;43minput\u001b[39;49m\u001b[43m,\u001b[49m\u001b[43m \u001b[49m\u001b[43mweight\u001b[49m\u001b[43m,\u001b[49m\u001b[43m \u001b[49m\u001b[43mbias\u001b[49m\u001b[43m,\u001b[49m\u001b[43m \u001b[49m\u001b[38;5;28;43mself\u001b[39;49m\u001b[38;5;241;43m.\u001b[39;49m\u001b[43mstride\u001b[49m\u001b[43m,\u001b[49m\n\u001b[1;32m    307\u001b[0m \u001b[43m                \u001b[49m\u001b[38;5;28;43mself\u001b[39;49m\u001b[38;5;241;43m.\u001b[39;49m\u001b[43mpadding\u001b[49m\u001b[43m,\u001b[49m\u001b[43m \u001b[49m\u001b[38;5;28;43mself\u001b[39;49m\u001b[38;5;241;43m.\u001b[39;49m\u001b[43mdilation\u001b[49m\u001b[43m,\u001b[49m\u001b[43m \u001b[49m\u001b[38;5;28;43mself\u001b[39;49m\u001b[38;5;241;43m.\u001b[39;49m\u001b[43mgroups\u001b[49m\u001b[43m)\u001b[49m\n",
      "\u001b[0;31mRuntimeError\u001b[0m: Given groups=1, weight of size [4, 4, 3], expected input[4, 1, 32] to have 4 channels, but got 1 channels instead"
     ]
    }
   ],
   "source": [
    "test(net,device,test_dataset, test_labels,nn.CrossEntropyLoss())"
   ]
  },
  {
   "cell_type": "code",
   "execution_count": null,
   "metadata": {},
   "outputs": [],
   "source": []
  }
 ],
 "metadata": {
  "kernelspec": {
   "display_name": "Python 3 (ipykernel)",
   "language": "python",
   "name": "python3"
  },
  "language_info": {
   "codemirror_mode": {
    "name": "ipython",
    "version": 3
   },
   "file_extension": ".py",
   "mimetype": "text/x-python",
   "name": "python",
   "nbconvert_exporter": "python",
   "pygments_lexer": "ipython3",
   "version": "3.10.12"
  }
 },
 "nbformat": 4,
 "nbformat_minor": 4
}
