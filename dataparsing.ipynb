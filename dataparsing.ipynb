{
 "cells": [
  {
   "cell_type": "code",
   "execution_count": 117,
   "metadata": {},
   "outputs": [],
   "source": [
    "import os\n",
    "import json\n",
    "\n",
    "from sqlalchemy import create_engine\n",
    "import mysql.connector"
   ]
  },
  {
   "cell_type": "code",
   "execution_count": 118,
   "metadata": {},
   "outputs": [],
   "source": [
    "conn=mysql.connector.connect(\n",
    "    user='root',\n",
    "    password='parola',\n",
    "    host='DESKTOP-2GU5QL2',\n",
    "    database='ai_dataset'\n",
    ")\n",
    "cursor=conn.cursor()"
   ]
  },
  {
   "cell_type": "code",
   "execution_count": 119,
   "metadata": {},
   "outputs": [],
   "source": [
    "tickers=[\"AAPL\",\"MSFT\",'SPY','XAUUSD.PEPPERSTONE','LCO.COMM']\n",
    "def replacement_map(name):\n",
    "    \n",
    "    char_to_replacement_map={'o':f'{name}_Open','h':f'{name}_High', 'l':f'{name}_Low', 'c':f'{name}_Close', 'a':f'{name}_Adj Close', 'v':f'{name}_Volume'}\n",
    "    return char_to_replacement_map\n"
   ]
  },
  {
   "cell_type": "code",
   "execution_count": 120,
   "metadata": {},
   "outputs": [],
   "source": [
    "def replace_keys_in_json_files(filenames, key_map):\n",
    "  \"\"\"Replaces keys in multiple JSON files based on a key mapping.\n",
    "\n",
    "  Args:\n",
    "    filenames: A list of file paths to the JSON files.\n",
    "    key_map: A dictionary mapping old keys to their new replacements.\n",
    "\n",
    "  Raises:\n",
    "    FileNotFoundError: If a file is not found.\n",
    "    json.JSONDecodeError: If a file is not valid JSON.\n",
    "  \"\"\"\n",
    "  for filename in filenames:\n",
    "    try:\n",
    "      with open(filename, \"r\") as f:\n",
    "        data = json.load(f)\n",
    "\n",
    "      # Create a copy of the data to avoid modifying the original file\n",
    "      modified_data = data.copy()\n",
    "\n",
    "      # Iterate through the list and replace keys within dictionaries\n",
    "      for i, item in enumerate(modified_data):\n",
    "        if isinstance(item, dict):  # Check if the item is a dictionary\n",
    "          modified_data[i] = {key_map.get(key, key): value for key, value in item.items()}\n",
    "        else:\n",
    "          # Handle non-dictionary items (you can choose to skip them, raise an error, etc.)\n",
    "          pass\n",
    "\n",
    "      with open(\"modified_\" + filename, \"w\") as f:\n",
    "        json.dump(modified_data, f, indent=4)  # Add indentation for readability\n",
    "      print(f\"Successfully replaced keys in '{filename}'.\")\n",
    "      os.remove(filename)\n",
    "    except FileNotFoundError:\n",
    "      print(f\"Error: File '{filename}' not found.\")\n",
    "    except json.JSONDecodeError:\n",
    "      print(f\"Error: '{filename}' is not valid JSON.\")\n",
    "\n"
   ]
  },
  {
   "cell_type": "code",
   "execution_count": 121,
   "metadata": {},
   "outputs": [],
   "source": [
    "def concatenate_json_files(filenames, output_filename):\n",
    "  \"\"\"Concatenates multiple JSON files into a single output file.\n",
    "\n",
    "  Args:\n",
    "    filenames: A list of file paths to the JSON files to be concatenated.\n",
    "    output_filename: The path to the output file where the concatenated data will be saved.\n",
    "  \"\"\"\n",
    "\n",
    "  combined_data = []\n",
    "  for filename in filenames:\n",
    "    try:\n",
    "      with open(filename, \"r\") as f:\n",
    "        file_data = json.load(f)\n",
    "        combined_data.extend(file_data)  # Extend the list with data from each file\n",
    "    except FileNotFoundError:\n",
    "      print(f\"Error: File '{filename}' not found.\")\n",
    "    except json.JSONDecodeError:\n",
    "      print(f\"Error: '{filename}' is not valid JSON.\")\n",
    "\n",
    "  with open(output_filename, \"w\") as f:\n",
    "    json.dump(combined_data, f, indent=4)  # Add indentation for readability\n",
    "  print(f\"Concatenated JSON data saved to '{output_filename}'.\")"
   ]
  },
  {
   "cell_type": "code",
   "execution_count": 122,
   "metadata": {},
   "outputs": [
    {
     "name": "stdout",
     "output_type": "stream",
     "text": [
      "['AAPL.json', 'MSFT.json', 'SPY.json', 'XAUUSD_PEPPERSTONE.json', 'LCO_COMM.json']\n"
     ]
    }
   ],
   "source": [
    "for i in range(len(tickers)):\n",
    "    tickers[i]=tickers[i].replace(\".\",\"_\")\n",
    "    tickers[i]=tickers[i]+'.json'\n",
    "print(tickers)\n"
   ]
  },
  {
   "cell_type": "code",
   "execution_count": 123,
   "metadata": {},
   "outputs": [
    {
     "name": "stdout",
     "output_type": "stream",
     "text": [
      "AAPL\n",
      "Successfully replaced keys in 'AAPL.json'.\n",
      "Successfully replaced keys in 'MSFT.json'.\n",
      "Successfully replaced keys in 'SPY.json'.\n",
      "Successfully replaced keys in 'XAUUSD_PEPPERSTONE.json'.\n",
      "Successfully replaced keys in 'LCO_COMM.json'.\n",
      "MSFT\n",
      "Error: File 'AAPL.json' not found.\n",
      "Error: File 'MSFT.json' not found.\n",
      "Error: File 'SPY.json' not found.\n",
      "Error: File 'XAUUSD_PEPPERSTONE.json' not found.\n",
      "Error: File 'LCO_COMM.json' not found.\n",
      "SPY\n",
      "Error: File 'AAPL.json' not found.\n",
      "Error: File 'MSFT.json' not found.\n",
      "Error: File 'SPY.json' not found.\n",
      "Error: File 'XAUUSD_PEPPERSTONE.json' not found.\n",
      "Error: File 'LCO_COMM.json' not found.\n",
      "XAUUSD_PEPPERSTONE\n",
      "Error: File 'AAPL.json' not found.\n",
      "Error: File 'MSFT.json' not found.\n",
      "Error: File 'SPY.json' not found.\n",
      "Error: File 'XAUUSD_PEPPERSTONE.json' not found.\n",
      "Error: File 'LCO_COMM.json' not found.\n",
      "LCO_COMM\n",
      "Error: File 'AAPL.json' not found.\n",
      "Error: File 'MSFT.json' not found.\n",
      "Error: File 'SPY.json' not found.\n",
      "Error: File 'XAUUSD_PEPPERSTONE.json' not found.\n",
      "Error: File 'LCO_COMM.json' not found.\n"
     ]
    }
   ],
   "source": [
    "for i in range(len(tickers)):\n",
    "    x=tickers[i]\n",
    "    x=x[:-5]\n",
    "    print(x)\n",
    "    replace_keys_in_json_files(tickers,replacement_map(x))"
   ]
  },
  {
   "cell_type": "code",
   "execution_count": 124,
   "metadata": {},
   "outputs": [
    {
     "data": {
      "text/plain": [
       "['modified_AAPL.json',\n",
       " 'modified_MSFT.json',\n",
       " 'modified_SPY.json',\n",
       " 'modified_XAUUSD_PEPPERSTONE.json',\n",
       " 'modified_LCO_COMM.json']"
      ]
     },
     "execution_count": 124,
     "metadata": {},
     "output_type": "execute_result"
    }
   ],
   "source": [
    "for i in range(len(tickers)):\n",
    "    tickers[i]='modified_'+tickers[i]\n",
    "tickers"
   ]
  },
  {
   "cell_type": "code",
   "execution_count": 125,
   "metadata": {},
   "outputs": [
    {
     "name": "stdout",
     "output_type": "stream",
     "text": [
      "Concatenated JSON data saved to 'stocks.json'.\n"
     ]
    }
   ],
   "source": [
    "concatenate_json_files(tickers,'stocks.json')"
   ]
  }
 ],
 "metadata": {
  "kernelspec": {
   "display_name": "Python 3",
   "language": "python",
   "name": "python3"
  },
  "language_info": {
   "codemirror_mode": {
    "name": "ipython",
    "version": 3
   },
   "file_extension": ".py",
   "mimetype": "text/x-python",
   "name": "python",
   "nbconvert_exporter": "python",
   "pygments_lexer": "ipython3",
   "version": "3.11.0"
  }
 },
 "nbformat": 4,
 "nbformat_minor": 2
}
