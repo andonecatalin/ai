{
 "cells": [
  {
   "cell_type": "code",
   "execution_count": 1,
   "metadata": {},
   "outputs": [],
   "source": [
    "\n",
    "from torch.utils.data import DataLoader,TensorDataset\n",
    "import torch.nn as nn\n",
    "#import data_download\n",
    "import random\n",
    "import functions\n",
    "#import numpy as np\n",
    "import matplotlib.pyplot as plt\n",
    "import torch.nn.functional as F\n",
    "from torch.utils.data import DataLoader,TensorDataset\n",
    "from sklearn.model_selection import train_test_split\n",
    "import torch\n",
    "import polars as pl\n",
    "from torch.nn import functional as F\n",
    "import torch.optim as optim\n",
    "\n",
    "device = torch.device('cuda' if torch.cuda.is_available() else 'cpu')"
   ]
  },
  {
   "cell_type": "code",
   "execution_count": 2,
   "metadata": {},
   "outputs": [],
   "source": [
    "dbname='ai_dataset'\n",
    "dbuser='postgres'\n",
    "dbpassword='parola'\n",
    "dbport=5432\n",
    "dbhost='127.0.0.1'\n",
    "table_name='tabela'"
   ]
  },
  {
   "cell_type": "code",
   "execution_count": 3,
   "metadata": {},
   "outputs": [],
   "source": [
    "tickers=[\"AAPL\",\"MSFT\",'SPY','XAUUSD.OANDA','BCO.ICMTRADER']\n",
    "for i in range(len(tickers)):\n",
    "    tickers[i]=tickers[i].replace('.','_')\n",
    "net_functions=functions.Protected_execution"
   ]
  },
  {
   "cell_type": "code",
   "execution_count": 4,
   "metadata": {},
   "outputs": [
    {
     "data": {
      "text/html": [
       "<div><style>\n",
       ".dataframe > thead > tr,\n",
       ".dataframe > tbody > tr {\n",
       "  text-align: right;\n",
       "  white-space: pre-wrap;\n",
       "}\n",
       "</style>\n",
       "<small>shape: (4_530, 6)</small><table border=\"1\" class=\"dataframe\"><thead><tr><th>aapl_open</th><th>aapl_high</th><th>aapl_low</th><th>aapl_close</th><th>aapl_adj_close</th><th>aapl_volume</th></tr><tr><td>f64</td><td>f64</td><td>f64</td><td>f64</td><td>f64</td><td>f64</td></tr></thead><tbody><tr><td>2.585</td><td>2.6696</td><td>2.5804</td><td>2.2722</td><td>2.2722</td><td>8.0723443e8</td></tr><tr><td>2.6832</td><td>2.7136</td><td>2.6607</td><td>2.2789</td><td>2.2789</td><td>6.196036e8</td></tr><tr><td>2.6725</td><td>2.675</td><td>2.6339</td><td>2.2609</td><td>2.2609</td><td>4.494224e8</td></tr><tr><td>2.6875</td><td>2.7393</td><td>2.6625</td><td>2.3193</td><td>2.3193</td><td>7.044576e8</td></tr><tr><td>2.7404</td><td>2.7571</td><td>2.705</td><td>2.3118</td><td>2.3118</td><td>6.7504077e8</td></tr><tr><td>&hellip;</td><td>&hellip;</td><td>&hellip;</td><td>&hellip;</td><td>&hellip;</td><td>&hellip;</td></tr><tr><td>195.18</td><td>195.41</td><td>192.97</td><td>193.6</td><td>193.6</td><td>3.71228e7</td></tr><tr><td>193.61</td><td>193.89</td><td>192.83</td><td>193.05</td><td>193.05</td><td>2.89193e7</td></tr><tr><td>192.49</td><td>193.5</td><td>191.09</td><td>193.15</td><td>193.15</td><td>4.80877e7</td></tr><tr><td>194.14</td><td>194.66</td><td>193.17</td><td>193.58</td><td>193.58</td><td>3.40499e7</td></tr><tr><td>193.9</td><td>194.4</td><td>191.73</td><td>192.53</td><td>192.53</td><td>4.26288e7</td></tr></tbody></table></div>"
      ],
      "text/plain": [
       "shape: (4_530, 6)\n",
       "┌───────────┬───────────┬──────────┬────────────┬────────────────┬─────────────┐\n",
       "│ aapl_open ┆ aapl_high ┆ aapl_low ┆ aapl_close ┆ aapl_adj_close ┆ aapl_volume │\n",
       "│ ---       ┆ ---       ┆ ---      ┆ ---        ┆ ---            ┆ ---         │\n",
       "│ f64       ┆ f64       ┆ f64      ┆ f64        ┆ f64            ┆ f64         │\n",
       "╞═══════════╪═══════════╪══════════╪════════════╪════════════════╪═════════════╡\n",
       "│ 2.585     ┆ 2.6696    ┆ 2.5804   ┆ 2.2722     ┆ 2.2722         ┆ 8.0723443e8 │\n",
       "│ 2.6832    ┆ 2.7136    ┆ 2.6607   ┆ 2.2789     ┆ 2.2789         ┆ 6.196036e8  │\n",
       "│ 2.6725    ┆ 2.675     ┆ 2.6339   ┆ 2.2609     ┆ 2.2609         ┆ 4.494224e8  │\n",
       "│ 2.6875    ┆ 2.7393    ┆ 2.6625   ┆ 2.3193     ┆ 2.3193         ┆ 7.044576e8  │\n",
       "│ 2.7404    ┆ 2.7571    ┆ 2.705    ┆ 2.3118     ┆ 2.3118         ┆ 6.7504077e8 │\n",
       "│ …         ┆ …         ┆ …        ┆ …          ┆ …              ┆ …           │\n",
       "│ 195.18    ┆ 195.41    ┆ 192.97   ┆ 193.6      ┆ 193.6          ┆ 3.71228e7   │\n",
       "│ 193.61    ┆ 193.89    ┆ 192.83   ┆ 193.05     ┆ 193.05         ┆ 2.89193e7   │\n",
       "│ 192.49    ┆ 193.5     ┆ 191.09   ┆ 193.15     ┆ 193.15         ┆ 4.80877e7   │\n",
       "│ 194.14    ┆ 194.66    ┆ 193.17   ┆ 193.58     ┆ 193.58         ┆ 3.40499e7   │\n",
       "│ 193.9     ┆ 194.4     ┆ 191.73   ┆ 192.53     ┆ 192.53         ┆ 4.26288e7   │\n",
       "└───────────┴───────────┴──────────┴────────────┴────────────────┴─────────────┘"
      ]
     },
     "execution_count": 4,
     "metadata": {},
     "output_type": "execute_result"
    }
   ],
   "source": [
    "query=net_functions.create_query(tickers[0],table_name)\n",
    "cursor,conn=net_functions.create_cursor(dbname,dbuser,dbpassword,dbport,dbhost)\n",
    "data=pl.read_database(query=query,connection=conn)\n",
    "#normalize with pandas\n",
    "\n",
    "data=data.drop_nulls()\n",
    "conn.close()\n",
    "data"
   ]
  },
  {
   "cell_type": "code",
   "execution_count": 5,
   "metadata": {},
   "outputs": [],
   "source": [
    "#get data from polars\n",
    "#labels=data['labels']\n",
    "train_data=data['aapl_high']\n",
    "#make polars data into torch tensors\n",
    "train_data=torch.tensor(train_data)\n",
    "\n",
    "batch_size=32"
   ]
  },
  {
   "cell_type": "code",
   "execution_count": 6,
   "metadata": {},
   "outputs": [],
   "source": [
    "#shorten the tensor\n",
    "shortened_tensor=net_functions.tensor_shortner(train_data, batch_size)\n",
    "#create batches of 32\n",
    "image_tensor=net_functions.image_builder(shortened_tensor,batch_size=batch_size)\n",
    "#create tensor\n",
    "labels=net_functions.change(image_tensor, batch_size)\n",
    "\n",
    "#cut the last image from data variable to adjust for change function\n",
    "image_tensor=image_tensor[:-1]"
   ]
  },
  {
   "cell_type": "code",
   "execution_count": 7,
   "metadata": {},
   "outputs": [],
   "source": [
    "#make labels and data into tensors\n",
    "labels=torch.tensor(labels,dtype=torch.int32)\n",
    "image_tensor=torch.tensor(image_tensor)\n",
    "\n",
    "#move them to gpu\n",
    "labels=labels.to(device)\n",
    "image_tensor=image_tensor.to(device)\n"
   ]
  },
  {
   "cell_type": "code",
   "execution_count": 8,
   "metadata": {},
   "outputs": [],
   "source": [
    "#split data with sklearn\n",
    "train_dataset,test_dataset,train_labels,test_labels=train_test_split(image_tensor,labels,test_size=.1)\n",
    "\n",
    "#create pythorch datasets\n",
    "train_dataset=torch.utils.data.TensorDataset(train_dataset,train_labels)\n",
    "test_dataset=torch.utils.data.TensorDataset(test_dataset,test_labels)\n",
    "batchsize=32\n",
    "train_loader=DataLoader(train_dataset,batch_size=batchsize,shuffle=True,drop_last=True)\n",
    "#test_loader=DataLoader(test_data,batch_size=test_data.tensors[0].shape[0],drop_last=True)\n",
    "test_loader=DataLoader(test_dataset,batch_size=batchsize,drop_last=True)\n"
   ]
  },
  {
   "cell_type": "code",
   "execution_count": null,
   "metadata": {},
   "outputs": [],
   "source": []
  }
 ],
 "metadata": {
  "kernelspec": {
   "display_name": "Python 3 (ipykernel)",
   "language": "python",
   "name": "python3"
  },
  "language_info": {
   "codemirror_mode": {
    "name": "ipython",
    "version": 3
   },
   "file_extension": ".py",
   "mimetype": "text/x-python",
   "name": "python",
   "nbconvert_exporter": "python",
   "pygments_lexer": "ipython3",
   "version": "3.10.12"
  }
 },
 "nbformat": 4,
 "nbformat_minor": 4
}
