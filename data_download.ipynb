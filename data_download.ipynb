{
 "cells": [
  {
   "cell_type": "code",
   "execution_count": null,
   "metadata": {},
   "outputs": [],
   "source": [
    "import json\n",
    "import requests\n",
    "import psycopg2\n",
    "import pandas as pd"
   ]
  },
  {
   "cell_type": "code",
   "execution_count": null,
   "metadata": {},
   "outputs": [],
   "source": [
    "start_date=\"2006-01-01\"\n",
    "end_date=\"2023-12-31\"\n",
    "\n",
    "dbname='ai_dataset'\n",
    "dbuser='postgres'\n",
    "dbpassword='parola'\n",
    "dbport=5432\n",
    "dbhost='127.0.0.1'\n",
    "conn=psycopg2.connect(dbname=dbname,user=dbuser,password=dbpassword,host=dbhost,port=dbport)"
   ]
  },
  {
   "cell_type": "code",
   "execution_count": null,
   "metadata": {},
   "outputs": [],
   "source": [
    "def replace_keys_in_json_files(data, name):\n",
    "  \"\"\"Replaces keys in multiple JSON files based on a key mapping.\n",
    "\n",
    "  Args:\n",
    "    filenames: A list of file paths to the JSON files.\n",
    "    key_map: A dictionary mapping old keys to their new replacements.\n",
    "\"\"\"\n",
    "  char_to_replacement_map={'o':f'{name}_Open','h':f'{name}_High', 'l':f'{name}_Low', 'c':f'{name}_Close', 'a':f'{name}_Adj Close', 'v':f'{name}_Volume'}\n",
    "\n",
    "      # Iterate through the list and replace keys within dictionaries\n",
    "  for i, item in enumerate(data):\n",
    "    if isinstance(item, dict):  # Check if the item is a dictionary\n",
    "        data[i] = {char_to_replacement_map.get(key, key): value for key, value in item.items()}\n",
    "    else: \n",
    "       print('Error in key replacement')\n",
    "          # Handle non-dictionary items (you can choose to skip them, raise an error, etc.)\n",
    "  return data      "
   ]
  },
  {
   "cell_type": "code",
   "execution_count": null,
   "metadata": {},
   "outputs": [],
   "source": [
    "def tickers2(tickers):\n",
    "    replaced=[]\n",
    "    for i in range(len(tickers)): \n",
    "        replaced.append(tickers[i].replace('.','_'))\n",
    "    return replaced\n"
   ]
  },
  {
   "cell_type": "code",
   "execution_count": null,
   "metadata": {},
   "outputs": [],
   "source": [
    "#api_key='dd75440b5984491b9f3593d8cc275ed4'\n",
    "api_key='348c590f9b0248638d37b8f381287cf1'\n",
    "data_json=[]\n",
    "tickers=[\"AAPL\",\"MSFT\",'SPY','XAUUSD.OANDA','BCO.ICMTRADER']\n",
    "x=tickers2(tickers)\n",
    "concatanated_data=[]\n",
    "for i in range(len(tickers)):\n",
    "    try:\n",
    "        response=requests.get(f'https://api.darqube.com/data-api/market-data/historical/daily/{tickers[i]}?token={api_key}&start_date={start_date}&end_date={end_date}')\n",
    "        response.raise_for_status()\n",
    "        data_json=response.json()\n",
    "        data_json=replace_keys_in_json_files(data_json,x[i])\n",
    "        concatanated_data.append(data_json)\n",
    "      \n",
    "          \n",
    "        \n",
    "    except requests.exceptions.RequestException as e:\n",
    "        print(f\"API Error: {e}\")\n"
   ]
  },
  {
   "cell_type": "code",
   "execution_count": null,
   "metadata": {},
   "outputs": [],
   "source": [
    "table_name='tabela'\n",
    "cursor = conn.cursor()\n"
   ]
  },
  {
   "cell_type": "code",
   "execution_count": null,
   "metadata": {},
   "outputs": [],
   "source": [
    "for lists in concatanated_data:\n",
    "  first_iteration=True\n",
    "  for sub_list in lists:\n",
    "\n",
    "    if first_iteration:\n",
    "      keys = sub_list.keys()\n",
    "     \n",
    "      keys=[item.replace(' ','_') for item in keys]\n",
    "      #print(keys)\n",
    "      # Create table dynamically based on the keys\n",
    "      column_definitions = \", \".join([f\"ADD COLUMN IF NOT EXISTS {key} REAL \" for key in keys])\n",
    "      create_table_query = f\"\"\"\n",
    "          ALTER TABLE {table_name}\n",
    "          {column_definitions}\n",
    "            ;\n",
    "      \"\"\"\n",
    "      cursor.execute(create_table_query)\n",
    "\n",
    "      #print(column_definitions)\n",
    "    first_iteration=False\n",
    "\n",
    "    \n",
    "    #cursor = conn.cursor()\n",
    "    \n",
    "    \n",
    "    value=list(sub_list.values())\n",
    "  \n",
    "    # Prepare the INSERT query dynamically\n",
    "    insert_query = f\"\"\"\n",
    "      INSERT INTO {table_name} ({\", \".join(keys)})\n",
    "      VALUES({[number for number in value]})\"\"\"\n",
    "    insert_query=insert_query.replace('[','')\n",
    "    insert_query=insert_query.replace(']','')\n",
    "    cursor.execute(insert_query)\n",
    "    # Insert data row by row\n",
    "    #print(insert_query)\n"
   ]
  },
  {
   "cell_type": "code",
   "execution_count": null,
   "metadata": {},
   "outputs": [],
   "source": [
    "#conn.commit()\n",
    "conn.close()"
   ]
  }
 ],
 "metadata": {
  "kernelspec": {
   "display_name": "Python 3 (ipykernel)",
   "language": "python",
   "name": "python3"
  },
  "language_info": {
   "codemirror_mode": {
    "name": "ipython",
    "version": 3
   },
   "file_extension": ".py",
   "mimetype": "text/x-python",
   "name": "python",
   "nbconvert_exporter": "python",
   "pygments_lexer": "ipython3",
   "version": "3.10.12"
  }
 },
 "nbformat": 4,
 "nbformat_minor": 4
}
