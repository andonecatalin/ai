{
 "cells": [
  {
   "cell_type": "code",
   "execution_count": 10,
   "metadata": {},
   "outputs": [],
   "source": [
    "\n",
    "import json\n",
    "import requests\n",
    "\n"
   ]
  },
  {
   "cell_type": "code",
   "execution_count": 11,
   "metadata": {},
   "outputs": [],
   "source": [
    "start_date=\"2006-01-01\"\n",
    "end_date=\"2023-12-31\"\n",
    "tickers=[\"AAPL\",\"MSFT\",'SPY','XAUUSD.PEPPERSTONE','LCO.COMM']\n"
   ]
  },
  {
   "cell_type": "code",
   "execution_count": 12,
   "metadata": {},
   "outputs": [],
   "source": [
    "def download_rename(data, name):\n",
    "    for string in data:\n",
    "        name=name.replace('.','_')\n",
    "        data.replace('o',f'{name}_Open')\n",
    "        data.replace('h',f'{name}_High')\n",
    "        data.replace('l',f'{name}_Low')\n",
    "        data.replace('c',f'{name}_Close')\n",
    "        data.replace('a',f'{name}_Adj Close')\n",
    "        data.replace('v',f'{name}_Volume')\n",
    "    return data"
   ]
  },
  {
   "cell_type": "code",
   "execution_count": 13,
   "metadata": {},
   "outputs": [],
   "source": [
    "def replace_characters_in_json(data,name):\n",
    "\n",
    "  char_to_replacement_map={'o':f'{name}_Open','h':f'{name}_High', 'l':f'{name}_Low', 'c':f'{name}_Close', 'a':f'{name}_Adj Close', 'v':f'{name}_Volume'}\n",
    "\n",
    "  def replace_chars(obj):\n",
    "    if isinstance(obj, str):\n",
    "      for char, replacement in char_to_replacement_map.items():\n",
    "        obj = obj.replace(char, replacement)\n",
    "      return obj\n",
    "    elif isinstance(obj, dict):\n",
    "      return {key: replace_chars(value) for key, value in obj.items()}\n",
    "    elif isinstance(obj, list):\n",
    "      return [replace_chars(item) for item in obj]\n",
    "    else:\n",
    "      return obj\n",
    "\n",
    "  modified_data = replace_chars(data)\n",
    "  return modified_data\n",
    "\n",
    "  "
   ]
  },
  {
   "cell_type": "code",
   "execution_count": 15,
   "metadata": {},
   "outputs": [],
   "source": [
    "api_key='dd75440b5984491b9f3593d8cc275ed4'\n",
    "data_json={}\n",
    "tickers=[\"AAPL\",\"MSFT\",'SPY','XAUUSD.PEPPERSTONE','LCO.COMM']\n",
    "\n",
    "for i in range(len(tickers)):\n",
    "   \n",
    "    nume=tickers[i].replace('.','_')\n",
    "    #characters_to_replace={'o':f'{tickers[i]}_Open','h':f'{tickers[i]}_High', 'l':f'{tickers[i]}_Low', 'c':f'{tickers[i]}_Close', 'a':f'{tickers[i]}_Adj Close', 'v':f'{tickers[i]}_Volume}\n",
    "    #hystorical_daily_request=f'https://api.darqube.com/data-api/market-data/historical/daily/TSLA?token={api_key}&start_date={start_date}&end_date={end_date}'\n",
    "    try:\n",
    "        response=requests.get(f'https://api.darqube.com/data-api/market-data/historical/daily/{tickers[i]}?token={api_key}&start_date={start_date}&end_date={end_date}')\n",
    "        response.raise_for_status()\n",
    "        data_json=response.json()\n",
    "        with open(f'{tickers[i].replace(\".\",\"_\")}.json','w') as f:\n",
    "            json.dump(data_json,f,indent=4)\n",
    "        #data=pd.DataFrame(data_json)\n",
    "        #data=download_rename(data,nume)\n",
    "        \n",
    "    except requests.exceptions.RequestException as e:\n",
    "        print(f\"API Error: {e}\")\n",
    "        \n"
   ]
  }
 ],
 "metadata": {
  "kernelspec": {
   "display_name": "Python 3",
   "language": "python",
   "name": "python3"
  },
  "language_info": {
   "codemirror_mode": {
    "name": "ipython",
    "version": 3
   },
   "file_extension": ".py",
   "mimetype": "text/x-python",
   "name": "python",
   "nbconvert_exporter": "python",
   "pygments_lexer": "ipython3",
   "version": "3.11.0"
  }
 },
 "nbformat": 4,
 "nbformat_minor": 2
}
